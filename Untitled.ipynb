{
 "cells": [
  {
   "cell_type": "markdown",
   "id": "b307e546-149b-46c0-834c-b5785d4807e0",
   "metadata": {},
   "source": [
    "# My Jupyter Notebook on IBM Watson Studio\n"
   ]
  },
  {
   "cell_type": "markdown",
   "id": "ccfec0c5-a13d-42d2-b7f6-65c2f7eab822",
   "metadata": {},
   "source": [
    "__Amirreza Sadat Madani__ Aerospace Engineer"
   ]
  },
  {
   "cell_type": "markdown",
   "id": "e8157576-a2fe-4d7d-8be2-f09300e9be92",
   "metadata": {},
   "source": [
    "_I am interested in Data Science because I can implement these skills in the post-processing phase of my simulations to better analyze the extracted data_"
   ]
  },
  {
   "cell_type": "markdown",
   "id": "437d9461-1259-4f41-bc11-7d92a6053c71",
   "metadata": {},
   "source": [
    "### The below code calculate 1 + 1"
   ]
  },
  {
   "cell_type": "code",
   "execution_count": 1,
   "id": "4709394b-f65b-40d1-b1f4-450ac49e4e09",
   "metadata": {},
   "outputs": [
    {
     "data": {
      "text/plain": [
       "2"
      ]
     },
     "execution_count": 1,
     "metadata": {},
     "output_type": "execute_result"
    }
   ],
   "source": [
    "1 + 1"
   ]
  },
  {
   "cell_type": "markdown",
   "id": "4030be18-1579-4015-995c-ecd525af462f",
   "metadata": {},
   "source": [
    "- First Bullet\n",
    "- Second Bullet\n",
    "- Third Bullet\n",
    "\n",
    "1. First Numeric Bullet\n",
    "2. Second Numeric Bullet\n",
    "3. Third Numeric Bullet"
   ]
  },
  {
   "cell_type": "code",
   "execution_count": null,
   "id": "a041b2d5-56b9-4a71-9064-6d86ff71fd93",
   "metadata": {},
   "outputs": [],
   "source": []
  }
 ],
 "metadata": {
  "kernelspec": {
   "display_name": "Python",
   "language": "python",
   "name": "conda-env-python-py"
  },
  "language_info": {
   "codemirror_mode": {
    "name": "ipython",
    "version": 3
   },
   "file_extension": ".py",
   "mimetype": "text/x-python",
   "name": "python",
   "nbconvert_exporter": "python",
   "pygments_lexer": "ipython3",
   "version": "3.7.12"
  }
 },
 "nbformat": 4,
 "nbformat_minor": 5
}
